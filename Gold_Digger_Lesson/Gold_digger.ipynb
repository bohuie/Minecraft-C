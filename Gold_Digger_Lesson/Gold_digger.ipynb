{
 "cells": [
  {
   "cell_type": "markdown",
   "metadata": {},
   "source": [
    "# Gold Digger\n",
    "\n",
    "Hi welcome to the gold digger lesson.\n",
    "In this lesson you will program your robot to collect some gold blocks for you\n",
    "\n",
    "First click import button to import world of Gold Digger to your game\n",
    "<img src=\"assets/import.png\" width=500px>\n",
    "\n",
    "In the game you can `press c` to open the code builder and you should use this button for this lesson:\n",
    "<img src=\"assets/code_builder.png\" width=500px>\n",
    "\n",
    "## There are some functions you could use in this lesson:\n",
    "\n",
    "1.agent.move(direction)             [Valid directions are: forward, back, left, right, up, down]\n",
    "\n",
    "2.agent.turn(turn direction)        [Valid direction are: left, right]\n",
    "\n",
    "3.agent.collect(item)             [Collect all items of the given type near the agent] **In this lesson you can collect \"gold block\"**\n",
    "\n",
    "4.agent.teleport([location])        [Teleports the agent to a location if specified, or else to the player]\n",
    "\n",
    "5.agent.position                    [Gets or sets the location of the agent]\n",
    "\n",
    "6.agent.destroy(direction)          [Destroys a block in the given direction]\n",
    "\n",
    "7.agent.get_item(slot number)       [Return the name of the item in the agent's inventory slot]\n",
    "\n",
    "8.agent.get_item_count(slot number) [Returns the number of items in the agent's inventory slot]\n",
    "\n",
    "\n",
    "## First you can try these functions by your self and see what happens in the game:"
   ]
  },
  {
   "cell_type": "code",
   "execution_count": null,
   "metadata": {},
   "outputs": [],
   "source": []
  },
  {
   "cell_type": "markdown",
   "metadata": {},
   "source": [
    "## Information for this lesson:\n",
    "\n",
    "We have 3 mines in this lesson you can choose any of them to test your code:\n",
    "\n",
    "#### Mine 1:\n",
    "\n",
    "<img src=\"assets/mine1.png\" width=500px>\n",
    "\n",
    "strat position (pink glass):[-25 76 103]\n",
    "\n",
    "number of layers: 2\n",
    "\n",
    "x length: 5\n",
    "\n",
    "y length: 7\n",
    "\n",
    "\n",
    "#### Mine 2:\n",
    "\n",
    "<img src=\"assets/mine2.png\" width=500px>\n",
    "\n",
    "strat position (red glass):[-27 76 101]\n",
    "\n",
    "number of layers: 3\n",
    "\n",
    "x length: 4\n",
    "\n",
    "y length: 11\n",
    "\n",
    "\n",
    "#### Mine 3:\n",
    "\n",
    "<img src=\"assets/mine3.png\" width=500px>\n",
    "\n",
    "strat position (blue glass):[-38 76 108]\n",
    "\n",
    "number of layers: 7\n",
    "\n",
    "x length: 7\n",
    "\n",
    "y length: 8\n"
   ]
  },
  {
   "cell_type": "markdown",
   "metadata": {},
   "source": [
    "## Task 1: Now let's set your robot to the star point (pink glass):\n",
    "\n",
    "Hint: \n",
    "1. you can use agent.teleport to transfer your agent to a location.\n",
    "2. the position of start point in this lesson is [-25,76,103].\n"
   ]
  },
  {
   "cell_type": "code",
   "execution_count": null,
   "metadata": {},
   "outputs": [],
   "source": []
  },
  {
   "cell_type": "markdown",
   "metadata": {},
   "source": [
    "## Task 2: Now your agent shoud on start point, you can start to write your mining function.\n",
    "\n",
    "We have many layers of gold, in this part our goal is collecting gold blocks in the first layer.  \n",
    "Hint:\n",
    "\n",
    "This is the recommended route:\n",
    "<img src=\"assets/route.png\" width=500px>\n",
    "1. you can use a nested for loop to keep moving your agent to destroy the block and collect gold.\n",
    "2. you can use a counter to control your agent when to turn right and when to turn left (e.g. if turn%2==0 turn right, else turn left) \n",
    "\n",
    "You can check the suggested answers at the bottom\n",
    "\n",
    "## some useful functions\n",
    "            1. agent.destroy(\"down\")\n",
    "            2. agent.move(\"forward\")\n",
    "            3. agent.turn(\"left\"/\"right\")\n",
    "            4. agent.collect(\"gold block\")\n"
   ]
  },
  {
   "cell_type": "code",
   "execution_count": null,
   "metadata": {},
   "outputs": [],
   "source": []
  },
  {
   "cell_type": "markdown",
   "metadata": {},
   "source": [
    "## Task 3: Now you should be able to collect gold bloks in first layer, let's dig a little deeper\n",
    "Hint:\n",
    "you can use another for loop to run your mining function many times and each time teleport your agent to start point and use agent.move(\"down\")"
   ]
  },
  {
   "cell_type": "code",
   "execution_count": null,
   "metadata": {},
   "outputs": [],
   "source": []
  },
  {
   "cell_type": "markdown",
   "metadata": {},
   "source": [
    "## Task 4: Your agent can tells you how many resources has been collected\n",
    "Hint:\n",
    "You can use a for loop to loop through agent's inventory slot, valid slot numbers are between 1 and 27, inclusive.\n",
    "## some useful functions\n",
    "agent.get_item_count(slot number)\n",
    "\n",
    "agent.get_item(slot number)"
   ]
  },
  {
   "cell_type": "code",
   "execution_count": null,
   "metadata": {},
   "outputs": [],
   "source": []
  },
  {
   "cell_type": "markdown",
   "metadata": {},
   "source": [
    "# Answer"
   ]
  },
  {
   "cell_type": "code",
   "execution_count": null,
   "metadata": {},
   "outputs": [],
   "source": [
    "position=[-25,76,103]           #position of start point\n",
    "\n",
    "\n",
    "def reverseturn():              #function for turn back\n",
    "    agent.turn(\"left\")\n",
    "    agent.turn(\"left\")\n",
    "\n",
    "    \n",
    "\n",
    "def mining(x,y):                 #answer for Task 2 \n",
    "    turn=0\n",
    "    for i in range(x):           #turn x times\n",
    "        for x in range(y-1):     #stand on first block on the mine so move forward y-1 times \n",
    "            agent.destroy(\"down\")\n",
    "            agent.move(\"forward\")\n",
    "            agent.collect(\"gold block\")\n",
    "        if turn%2==0:\n",
    "            agent.turn(\"right\")\n",
    "            agent.destroy(\"down\")\n",
    "            agent.collect(\"gold block\")\n",
    "            agent.move(\"forward\")\n",
    "            agent.turn(\"right\")\n",
    "        else:                      # control when to turn right and when to turn left\n",
    "            agent.turn(\"left\")\n",
    "            agent.destroy(\"down\")\n",
    "            agent.collect(\"gold block\")\n",
    "            agent.move(\"forward\")\n",
    "            agent.turn(\"left\")\n",
    "        turn+=1\n",
    "\n",
    "        \n",
    "\n",
    "def startmaining(num_layers,x,y):  #answer for Task 3\n",
    "    agent.move(\"forward\")          # in the first turn move forward from start point to the mine area\n",
    "    for i in range(num_layers):    # run num of layers time \n",
    "        mining(x,y)\n",
    "        agent.teleport(position)\n",
    "        if x%2!=0:                 #when the length of x is odd, we need to turn back our agent after each teleport\n",
    "            reverseturn()          #otherwise the agent will dig in the opposite direction\n",
    "        agent.move(\"forward\")\n",
    "        for z in range(i+1):       #in each iteration we need move our agent deeper\n",
    "            agent.move(\"down\")\n",
    "    agent.teleport(position)\n",
    "    agent.say(\"finished\")\n",
    "\n",
    "\n",
    "    \n",
    "\n",
    "def itemnumber(item):                # answer for Task 4\n",
    "    for i in range(1,28):\n",
    "        if (agent.get_item(i)==item):#report the number of the input item in the agent's inventory\n",
    "            agent.say(\"I have \"+str(agent.get_item_count(i))+\" \"+agent.get_item(i))\n",
    "\n",
    "\n",
    "\n",
    "\n",
    "#agent.teleport(position)    #answer for task 1\n",
    "#reverseturn()               #after teleport if your agent is facing in the opposite direction run this code \n",
    "startmaining(2,5,7)          #startmaining(num_layers,x_length,y_length)    \n",
    "itemnumber(\"gold block\")     #item name\n",
    "\n"
   ]
  }
 ],
 "metadata": {
  "kernelspec": {
   "display_name": "Python 3",
   "language": "python",
   "name": "python3"
  },
  "language_info": {
   "codemirror_mode": {
    "name": "ipython",
    "version": 3
   },
   "file_extension": ".py",
   "mimetype": "text/x-python",
   "name": "python",
   "nbconvert_exporter": "python",
   "pygments_lexer": "ipython3",
   "version": "3.7.4"
  }
 },
 "nbformat": 4,
 "nbformat_minor": 4
}
