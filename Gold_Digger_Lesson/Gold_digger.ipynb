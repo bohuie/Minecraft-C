{
 "cells": [
  {
   "cell_type": "markdown",
   "metadata": {},
   "source": [
    "# Gold Digger\n",
    "\n",
    "Hi welcome to the gold digger lesson.\n",
    "In this lesson you will program your robot to collect some gold blocks for you\n",
    "\n",
    "First click import button to import world of Gold Digger to your game\n",
    "<img src=\"assets/import.png\" width=500px>\n",
    "\n",
    "In the game you can `press c` to open the code builder and you should use this button for this lesson:\n",
    "<img src=\"assets/code_builder.png\" width=500px>\n",
    "\n",
    "## There are some functions you could use in this lesson:\n",
    "\n",
    "1.agent.move(direction)             [Valid directions are: forward, back, left, right, up, down]\n",
    "\n",
    "2.agent.turn(turn direction)        [Valid direction are: left, right]\n",
    "\n",
    "3.agent.collect(item)             [Collect all items of the given type near the agent] **In this lesson you can collect \"gold block\"**\n",
    "\n",
    "4.agent.teleport([location])        [Teleports the agent to a location if specified, or else to the player]\n",
    "\n",
    "5.agent.position                    [Gets or sets the location of the agent]\n",
    "\n",
    "6.agent.destroy(direction)          [Destroys a block in the given direction]\n",
    "\n",
    "7.agent.get_item(slot number)       [Return the name of the item in the agent's inventory slot]\n",
    "\n",
    "8.agent.get_item_count(slot number) [Returns the number of items in the agent's inventory slot]\n",
    "\n",
    "\n",
    "## First you can try these functions by your self and see what happens in the game:"
   ]
  },
  {
   "cell_type": "code",
   "execution_count": null,
   "metadata": {},
   "outputs": [],
   "source": []
  },
  {
   "cell_type": "markdown",
   "metadata": {},
   "source": [
    "## Information for this lesson:\n",
    "\n",
    "\n",
    "### Background:\n",
    "\n",
    "Finding specific resources in Minecraft has always been a cumbersome and time-consuming task, but now you can program your agent to help you accomplish this task quickly. In this lesson we have set up three mines, each with different lengths, widths and depths(There is no more gold after specific depth). You can choose any of them to test your code.\n",
    "\n",
    "\n",
    "Let's see a demo first: https://drive.google.com/file/d/1JxA4gEOTwGVTB4YYEaYiS63sLiuG53q7/view?usp=sharing\n",
    "\n",
    "\n",
    "#### Mine 1:\n",
    "\n",
    "<img src=\"assets/mine1.png\" width=500px>\n",
    "\n",
    "strat position (pink glass):[-25 76 103]\n",
    "\n",
    "Depth: 2\n",
    "\n",
    "lengths(x length): 5\n",
    "\n",
    "widths(y length): 7\n",
    "\n",
    "\n",
    "#### Mine 2:\n",
    "\n",
    "<img src=\"assets/mine2.png\" width=500px>\n",
    "\n",
    "strat position (red glass):[-27 76 101]\n",
    "\n",
    "Depth: 3\n",
    "\n",
    "lengths(x length): 4\n",
    "\n",
    "widths(y length): 11\n",
    "\n",
    "\n",
    "#### Mine 3:\n",
    "\n",
    "<img src=\"assets/mine3.png\" width=500px>\n",
    "\n",
    "strat position (blue glass):[-38 76 108]\n",
    "\n",
    "Depth: 7\n",
    "\n",
    "lengths(x length): 7\n",
    "\n",
    "widths(y length): 8\n"
   ]
  },
  {
   "cell_type": "markdown",
   "metadata": {},
   "source": [
    "## Python background knowledge\n",
    "\n",
    "\n",
    "#### For loop:\n",
    "we can use for loop to iterate over a sequence e.g. a list or a string in python.\n",
    "Note: the `indentation` in python is very important because we use indentation to indicate a block of code in python.\n",
    "\n",
    "See example below"
   ]
  },
  {
   "cell_type": "code",
   "execution_count": 3,
   "metadata": {
    "scrolled": true
   },
   "outputs": [
    {
     "name": "stdout",
     "output_type": "stream",
     "text": [
      "0\n",
      "Hi\n",
      "1\n",
      "Hi\n",
      "2\n",
      "Hi\n",
      "end\n"
     ]
    }
   ],
   "source": [
    "for i in range(3):\n",
    "    print(i)\n",
    "    print(\"Hi\")\n",
    "print(\"end\") #this line is not in the block of for loop, therefore only printed once."
   ]
  },
  {
   "cell_type": "code",
   "execution_count": 4,
   "metadata": {},
   "outputs": [
    {
     "ename": "IndentationError",
     "evalue": "expected an indented block (<ipython-input-4-6e9f3d18e64d>, line 2)",
     "output_type": "error",
     "traceback": [
      "\u001b[1;36m  File \u001b[1;32m\"<ipython-input-4-6e9f3d18e64d>\"\u001b[1;36m, line \u001b[1;32m2\u001b[0m\n\u001b[1;33m    print(\"end\")\u001b[0m\n\u001b[1;37m        ^\u001b[0m\n\u001b[1;31mIndentationError\u001b[0m\u001b[1;31m:\u001b[0m expected an indented block\n"
     ]
    }
   ],
   "source": [
    "for i in range(3): #if you skip the indentation you will get an error. \n",
    "print(\"end\")"
   ]
  },
  {
   "cell_type": "markdown",
   "metadata": {},
   "source": [
    "#### Nested for loop\n",
    "\n",
    "Of course you can use a loop inside a loop"
   ]
  },
  {
   "cell_type": "code",
   "execution_count": 17,
   "metadata": {},
   "outputs": [
    {
     "name": "stdout",
     "output_type": "stream",
     "text": [
      "Hi\n",
      "Good morning\n",
      "Good morning\n",
      "Good morning\n",
      "Hi\n",
      "Good morning\n",
      "Good morning\n",
      "Good morning\n"
     ]
    }
   ],
   "source": [
    "for i in range (2):\n",
    "    print(\"Hi\")\n",
    "    for j in range (3):\n",
    "        print(\"Good morning\")"
   ]
  },
  {
   "cell_type": "markdown",
   "metadata": {},
   "source": [
    "#### Define a function in python\n",
    "\n",
    "A function is a block of code which only runs when it is called. You can pass data, known as parameters, into a function. A function can return data as a result. (from w3schools.com)\n",
    "\n",
    "Function is very important in Python because in many cases you can `reuse your` code.\n",
    "\n",
    "`Indentation` is also important for function.\n",
    "\n",
    "See example below"
   ]
  },
  {
   "cell_type": "code",
   "execution_count": 6,
   "metadata": {},
   "outputs": [
    {
     "name": "stdout",
     "output_type": "stream",
     "text": [
      "Hi Bob\n",
      "Hi Bob\n",
      "end\n"
     ]
    }
   ],
   "source": [
    "def printyourname(name): #this function will print your name twice \n",
    "    for i in range(2):\n",
    "        print(\"Hi \"+name)\n",
    "printyourname(\"Bob\")\n",
    "print(\"end\")"
   ]
  },
  {
   "cell_type": "code",
   "execution_count": 15,
   "metadata": {},
   "outputs": [
    {
     "name": "stdout",
     "output_type": "stream",
     "text": [
      "19\n",
      "22\n",
      "end\n"
     ]
    }
   ],
   "source": [
    "def printyourname(name): \n",
    "    for i in range(2):\n",
    "        print(\"Hi \"+name)\n",
    "# if you don't call this function, it will not run\n",
    "\n",
    "def complex_calculation(x,y):\n",
    "    print(x+y*x+10)\n",
    "    \n",
    "complex_calculation(3,2)\n",
    "complex_calculation(6,1)# you only need to change the parameters to reuse your function\n",
    "print(\"end\")"
   ]
  },
  {
   "cell_type": "markdown",
   "metadata": {},
   "source": [
    "### Python in game\n",
    "\n",
    "Because the game provides only the most basic commands like \n",
    "\n",
    "agent.move(\"forward\")\n",
    "\n",
    "agent.destroy(\"down\")\n",
    "\n",
    "**Therefore you can use for loop and function to run the command multiple times**\n",
    "\n",
    "**for example:** \n",
    "\n",
    "\n",
    "def move(steps):\n",
    "\n",
    "    for i in range(steps):\n",
    "    \n",
    "        agent.move(\"forward\")\n",
    "        \n",
    "        agent.destroy(\"down\")\n",
    "        \n",
    "move(5)\n",
    "\n",
    "this function will move your agent and destroy the block under your agent five times.\n",
    "\n",
    "\n",
    "Also, the game doesn't provide a turn back function but we can write our own.\n",
    "\n",
    "def turnback():\n",
    "    \n",
    "    agent.turn(\"right\")\n",
    "    \n",
    "    agent.turn(\"right\")\n",
    "\n",
    " "
   ]
  },
  {
   "cell_type": "markdown",
   "metadata": {},
   "source": [
    "# Now Let's program your agent !\n",
    "\n",
    "\n",
    "## Task 1: Now let's set your robot to the star point (pink glass):\n",
    "\n",
    "Hint: \n",
    "1. you can use agent.teleport to transfer your agent to a location.\n",
    "2. the position of start point in this lesson is [-25,76,103].\n"
   ]
  },
  {
   "cell_type": "code",
   "execution_count": null,
   "metadata": {},
   "outputs": [],
   "source": []
  },
  {
   "cell_type": "markdown",
   "metadata": {},
   "source": [
    "## Task 2: Now your agent shoud on start point, you can start to write your mining function.\n",
    "\n",
    "We have many layers of gold (Depth), in this part our goal is collecting gold blocks in the first layer.  \n",
    "Hint:\n",
    "\n",
    "This is the recommended route:\n",
    "<img src=\"assets/route.png\" width=500px>\n",
    "1. you can use a nested for loop to keep moving your agent to destroy the block and collect gold.\n",
    "2. you can use a counter to control your agent when to turn right and when to turn left (e.g. if turn%2==0 turn right, else turn left) \n",
    "\n",
    "You can check the suggested answers at the bottom\n",
    "\n",
    "## some useful functions\n",
    "            1. agent.destroy(\"down\")\n",
    "            2. agent.move(\"forward\")\n",
    "            3. agent.turn(\"left\"/\"right\")\n",
    "            4. agent.collect(\"gold block\")\n"
   ]
  },
  {
   "cell_type": "code",
   "execution_count": null,
   "metadata": {},
   "outputs": [],
   "source": []
  },
  {
   "cell_type": "markdown",
   "metadata": {},
   "source": [
    "## Task 3: Now you should be able to collect gold bloks in first layer, let's dig a little deeper\n",
    "Hint:\n",
    "you can use another for loop to run your mining function many times and each time teleport your agent to start point and use agent.move(\"down\")"
   ]
  },
  {
   "cell_type": "code",
   "execution_count": null,
   "metadata": {},
   "outputs": [],
   "source": []
  },
  {
   "cell_type": "markdown",
   "metadata": {},
   "source": [
    "## Task 4: Your agent can tells you how many resources has been collected\n",
    "Hint:\n",
    "You can use a for loop to loop through agent's inventory slot, valid slot numbers are between 1 and 27, inclusive.\n",
    "## some useful functions\n",
    "agent.get_item_count(slot number)\n",
    "\n",
    "agent.get_item(slot number)"
   ]
  },
  {
   "cell_type": "code",
   "execution_count": null,
   "metadata": {},
   "outputs": [],
   "source": []
  },
  {
   "cell_type": "markdown",
   "metadata": {},
   "source": [
    "# Answer"
   ]
  },
  {
   "cell_type": "code",
   "execution_count": null,
   "metadata": {},
   "outputs": [],
   "source": [
    "position=[-25,76,103]           #position of start point\n",
    "\n",
    "\n",
    "def turnback():              #function for turn back\n",
    "    agent.turn(\"left\")\n",
    "    agent.turn(\"left\")\n",
    "\n",
    "    \n",
    "\n",
    "def mining(x,y):                 #answer for Task 2 \n",
    "    turn=0\n",
    "    for i in range(x):           #turn x times\n",
    "        for x in range(y-1):     #stand on first block on the mine so move forward y-1 times \n",
    "            agent.destroy(\"down\")\n",
    "            agent.move(\"forward\")\n",
    "            agent.collect(\"gold block\")\n",
    "        if turn%2==0:\n",
    "            agent.turn(\"right\")\n",
    "            agent.destroy(\"down\")\n",
    "            agent.collect(\"gold block\")\n",
    "            agent.move(\"forward\")\n",
    "            agent.turn(\"right\")\n",
    "        else:                      # control when to turn right and when to turn left\n",
    "            agent.turn(\"left\")\n",
    "            agent.destroy(\"down\")\n",
    "            agent.collect(\"gold block\")\n",
    "            agent.move(\"forward\")\n",
    "            agent.turn(\"left\")\n",
    "        turn+=1\n",
    "\n",
    "        \n",
    "\n",
    "def startmaining(num_layers,x,y):  #answer for Task 3\n",
    "    agent.move(\"forward\")          # in the first turn move forward from start point to the mine area\n",
    "    for i in range(num_layers):    # run num of layers time \n",
    "        mining(x,y)\n",
    "        agent.teleport(position)\n",
    "        if x%2!=0:                 #when the length of x is odd, we need to turn back our agent after each teleport\n",
    "            turnback()          #otherwise the agent will dig in the opposite direction\n",
    "        agent.move(\"forward\")\n",
    "        for z in range(i+1):       #in each iteration we need move our agent deeper\n",
    "            agent.move(\"down\")\n",
    "    agent.teleport(position)\n",
    "    agent.say(\"finished\")\n",
    "\n",
    "\n",
    "    \n",
    "\n",
    "def itemnumber(item):                # answer for Task 4\n",
    "    for i in range(1,28):\n",
    "        if (agent.get_item(i)==item):#report the number of the input item in the agent's inventory\n",
    "            agent.say(\"I have \"+str(agent.get_item_count(i))+\" \"+agent.get_item(i))\n",
    "\n",
    "\n",
    "\n",
    "\n",
    "#agent.teleport(position)    #answer for task 1\n",
    "#turnback()               #after teleport if your agent is facing in the opposite direction run this code \n",
    "startmaining(2,5,7)          #startmaining(num_layers,x_length,y_length)    \n",
    "itemnumber(\"gold block\")     #item name\n",
    "\n"
   ]
  }
 ],
 "metadata": {
  "kernelspec": {
   "display_name": "Python 3",
   "language": "python",
   "name": "python3"
  },
  "language_info": {
   "codemirror_mode": {
    "name": "ipython",
    "version": 3
   },
   "file_extension": ".py",
   "mimetype": "text/x-python",
   "name": "python",
   "nbconvert_exporter": "python",
   "pygments_lexer": "ipython3",
   "version": "3.7.4"
  }
 },
 "nbformat": 4,
 "nbformat_minor": 4
}
