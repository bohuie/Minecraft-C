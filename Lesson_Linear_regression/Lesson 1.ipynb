{
 "cells": [
  {
   "cell_type": "markdown",
   "metadata": {},
   "source": [
    "# Chicken Farm\n",
    "\n",
    "\n",
    "#### Hi welcome to the Chicken Farm lesson.\n",
    "#### In this lesson you will use `Linear Regression` algorithm and your agent to build a chicken farm!\n",
    "\n",
    "\n",
    "<img src=\"resources/ChickenFarm.png\" width=1000px>\n",
    "\n",
    "\n",
    "#### Background:\n",
    "\n",
    "There is a village that needs to build a chicken farm. There are now 87 chickens in the village, but no one knows how big the farm should be. You are the builder of this chicken farm, and you need to use your robot to build a proper chicken farm for the village. The farm should not be too large (villagers do not want to waste money) or too small (because it will affect the growth of the chickens). Therefore, you need to find a proper size by your self. Here are some data from other chicken farms, please use this data to predict the size of this farm and help the villagers to build it.\n",
    "\n",
    "##### Farm size: [20,40,60,80,100,120,140,40,50,60,105,48,54,63,72,103,108,93,90,68,36,90,88]\n",
    "\n",
    "##### N of Chickens: [15,28,50,68,75,93,130,35,38,78,81,33,40,45,75,70,100,95,60,70,70,110,52]\n",
    "\n",
    "\n",
    "#### If you never learn statistics or machine learning before, you might be wondering How ???\n",
    "#### Let's see an example first"
   ]
  },
  {
   "cell_type": "markdown",
   "metadata": {},
   "source": [
    "## Data Visualization\n",
    "\n",
    "If you want to extract some useful information from a set of data, the most common way to do this is to make a graph. Graph makes the data more natural for us to understand and help us identify trends and patterns easily.\n",
    "\n",
    "Now Let's learn How to use Python to print and analyze data."
   ]
  },
  {
   "cell_type": "code",
   "execution_count": 5,
   "metadata": {},
   "outputs": [
    {
     "data": {
      "image/png": "[encoded data removed]",
      "text/plain": [
       "<Figure size 432x288 with 1 Axes>"
      ]
     },
     "metadata": {
      "needs_background": "light"
     },
     "output_type": "display_data"
    }
   ],
   "source": [
    "import matplotlib.pyplot as plt\n",
    "\n",
    "#Let's assume that we have some price and size of houses in a city\n",
    "\n",
    "size = [50,60,70,80,90,100,110,120,130,140,150,160] \n",
    "# size in square meter\n",
    "\n",
    "price= [130,250,210,298,258,330,412,420,370,425,443,520] \n",
    "# price in hundred thousands\n",
    "\n",
    "# We can use a python library called matplotlib to visualize our data \n",
    "plt.plot(size,price, \"o\")\n",
    "\n",
    "plt.show()\n",
    "\n",
    "# when we print our data, we can easily find that our data shows a linear trend\n",
    "# We learned in math that the equation of a straight line is y= mx+b, so let's find a line that can fit our data."
   ]
  },
  {
   "cell_type": "code",
   "execution_count": 6,
   "metadata": {},
   "outputs": [
    {
     "data": {
      "image/png": "[encoded data removed]",
      "text/plain": [
       "<Figure size 432x288 with 1 Axes>"
      ]
     },
     "metadata": {
      "needs_background": "light"
     },
     "output_type": "display_data"
    }
   ],
   "source": [
    "m= 3\n",
    "# m is the slope of the line\n",
    "\n",
    "b=28\n",
    "# b is the intercept of the line\n",
    "\n",
    "y=[m*x+b for x in size]\n",
    "# the equation of the line \n",
    "\n",
    "plt.plot(size,price,\"o\")\n",
    "\n",
    "plt.plot(size,y)\n",
    "\n",
    "plt.show()"
   ]
  },
  {
   "cell_type": "markdown",
   "metadata": {},
   "source": [
    "### Now we can try to print our chicken farm data"
   ]
  },
  {
   "cell_type": "code",
   "execution_count": 7,
   "metadata": {
    "scrolled": true
   },
   "outputs": [
    {
     "data": {
      "image/png": "[encoded data removed]",
      "text/plain": [
       "<Figure size 432x288 with 1 Axes>"
      ]
     },
     "metadata": {
      "needs_background": "light"
     },
     "output_type": "display_data"
    }
   ],
   "source": [
    "#Let's assume that we have some price and size of houses in a city\n",
    "\n",
    "size=[20,40,60,80,100,120,140,40,50,60,105,48,54,63,72,103,108,93,90,68,36,90,88]\n",
    "# farm size\n",
    "\n",
    "Num_Chickens= [15,28,50,68,75,93,130,35,38,78,81,33,40,45,75,70,100,95,60,70,70,110,52]\n",
    "# number of chickens\n",
    "\n",
    "# We can use a python library called matplotlib to visualize our data \n",
    "plt.plot(size,Num_Chickens, \"o\")\n",
    "\n",
    "plt.show()\n",
    "\n"
   ]
  },
  {
   "cell_type": "markdown",
   "metadata": {},
   "source": [
    "From the graph, we can see that our data also shows a linear trend. But how can we find a line that best fit this dataset, how can we find M and B?"
   ]
  },
  {
   "cell_type": "markdown",
   "metadata": {},
   "source": [
    "### Classification and Regression\n",
    "\n",
    "Let's learn some background before we start to build our linear regression model.\n",
    "\n",
    "\n",
    "##### Machine Learning and Linear regression:\n",
    "Machine learning algorithms build a model based on sample data, in order to make predictions or decisions without being explicitly programmed to do so (Wikipedia). We can distinguish ML algorithms to two types by their output, classification and Regression (more detials see below). Linear regression is one of the regression Machine Learning algorithm. We can use it to find the line that best fits the data. \n",
    "\n",
    "\n",
    "##### What is Classification:\n",
    "Classification is the process of finding or discovering a model or function which helps in separating the data into multiple categorical classes(GeeksforGeeks). For example, classify if an email is spam or not. (the output is discrete value)\n",
    "\n",
    "\n",
    "##### What is Regression:\n",
    "Regression is the process of finding a model or function for distinguishing the data into continuous real values instead of using classes or discrete values(GeeksforGeeks). For example, we have a dataset that contains some data pairs on the price of a house vs. the size of a house. Then we can train the model and predict the price of a new house based on the given size. (the output is continuous)\n",
    "\n",
    "\n"
   ]
  },
  {
   "cell_type": "markdown",
   "metadata": {},
   "source": [
    "### Squared Distance(Loss)\n",
    "\n",
    "Now we know what is linear regression, but how should we perform the algorithm? Let's learn what is Squared Distance(Loss) first.\n",
    "\n",
    "In math, the equation of a straight line is Y=mx + b (X and Y are the value on the axis, m= slope or gradient and b is intercept or the value of y when x=0). So, we should find the best m value and b value for our data, but what is the best and how to find the value?\n",
    "\n",
    "<img src=\"resources/SD.jpg\" width=500px>\n",
    "\n",
    "In this graph, the `red dots` represent our data. \n",
    "\n",
    "The `blue line` is the prediction line. \n",
    "\n",
    "The `purple points` represent the corresponding Y value.\n",
    "\n",
    "The `green line` shows the distance between our data and the prediction line.\n",
    "\n",
    "We use loss to determine whether a model is good or bad. In our graph the loss is the squared distance between red dots and the blue line. And our goal is to find the best m and b value for the prediction line that minimizes our loss.\n",
    "\n"
   ]
  },
  {
   "cell_type": "markdown",
   "metadata": {},
   "source": [
    "### Ordinary Least Squares\n",
    "\n",
    "We call the process of finding the minimum loss value as optimization, in this lesson we will learn how to implement an optimization algorithm called Ordinary Least Squares (OLS):\n",
    "\n",
    "To minimizes the loss, we need to minimize the mean squared error (MSE) of our model.\n",
    "\n",
    "`Formula for mean squared error: MSE= 1/n Σ square(y - y’)`\n",
    "\n",
    "N= number of elements in our dataset\n",
    "\n",
    "Y= The Y-intercept value corresponding to the given x value in the data (red dots in the previous graph)\n",
    "\n",
    "Y’= The Y-intercept value corresponding to the given x value on our prediction line. (purple dots in the previous graph)\n",
    "\n",
    "Through some math we get the following formula to help us to find M and B\n",
    "\n",
    "M=( Mean(ΣXY) - (Mean(ΣX)*Mean(ΣY)) ) / (Mean(Σsquare(X)) - (square(Mean(ΣX))))\n",
    "\n",
    "B= Mean(ΣY) – M (Mean(ΣX))\n",
    "\n",
    "We’re not going to get into the math behind the formula in this lesson, but if you’re interested check out this article: https://www.freecodecamp.org/news/machine-learning-mean-squared-error-regression-line-c7dde9a26b93/\n"
   ]
  },
  {
   "cell_type": "markdown",
   "metadata": {},
   "source": [
    "### OLS python implimentation:\n",
    "\n",
    "Now let's learn how to impliment OLS by python "
   ]
  },
  {
   "cell_type": "code",
   "execution_count": 8,
   "metadata": {},
   "outputs": [],
   "source": [
    "import numpy as np\n",
    "\n",
    "def calculate_MB(x,y):\n",
    "    \n",
    "    x=np.array(x)\n",
    "    #convert list to numpy array\n",
    "    y=np.array(y)\n",
    "    \n",
    "\n",
    "    Mean_x=np.mean(x)\n",
    "    #Mean(ΣX)\n",
    "    \n",
    "    Mean_y=np.mean(y)\n",
    "    #Mean(ΣY)\n",
    "    \n",
    "    Mean_xy=np.mean(x*y)\n",
    "    #Mean(ΣXY)\n",
    "    \n",
    "    x_sqr=[point**2 for point in x]\n",
    "    #Sqr(X)\n",
    "    \n",
    "    Mean_x_sqr=np.mean(x_sqr)\n",
    "    #Mean(Sqr(ΣX))\n",
    "    \n",
    "    M=(Mean_xy-(Mean_x*Mean_y))/(Mean_x_sqr-(Mean_x**2))\n",
    "    \n",
    "    B=Mean_y-(M*Mean_x)\n",
    "    \n",
    "    return M,B"
   ]
  },
  {
   "cell_type": "markdown",
   "metadata": {},
   "source": [
    "Now Let's test our OLS function, we can reuse the data above. In the house price example, we calculate the M and B value by Excel and get M=3 and B=28"
   ]
  },
  {
   "cell_type": "code",
   "execution_count": 11,
   "metadata": {},
   "outputs": [
    {
     "name": "stdout",
     "output_type": "stream",
     "text": [
      "M=2.9580419580419597\n",
      "B=28.238927738927543\n"
     ]
    }
   ],
   "source": [
    "size = [50,60,70,80,90,100,110,120,130,140,150,160] \n",
    "\n",
    "price= [130,250,210,298,258,330,412,420,370,425,443,520]\n",
    "\n",
    "M,B=calculate_MB(size,price)\n",
    "print(\"M=\"+str(M))\n",
    "print(\"B=\"+str(B))\n",
    "\n",
    "# we get the same output as above"
   ]
  },
  {
   "cell_type": "markdown",
   "metadata": {},
   "source": [
    "We have the slope and intercept now, let's predict a point by our model"
   ]
  },
  {
   "cell_type": "code",
   "execution_count": 16,
   "metadata": {},
   "outputs": [],
   "source": [
    "def Linear_regression(x,y,predict):\n",
    "\n",
    "    M,B=calculate_MB(x,y)\n",
    "\n",
    "    Y=[M*X+B for X in x]\n",
    "\n",
    "    # the equation of the line\n",
    "    \n",
    "    pre=M*predict+B\n",
    "    \n",
    "    print(\"prediction: \"+str(pre))\n",
    "    #print the prediction of your point\n",
    "    plt.plot(x,y,\"o\")\n",
    "\n",
    "    plt.plot(x,Y)\n",
    "\n",
    "    plt.show()"
   ]
  },
  {
   "cell_type": "code",
   "execution_count": 19,
   "metadata": {
    "scrolled": false
   },
   "outputs": [
    {
     "name": "stdout",
     "output_type": "stream",
     "text": [
      "prediction: 229.3857808857808\n"
     ]
    },
    {
     "data": {
      "image/png": "[encoded data removed]",
      "text/plain": [
       "<Figure size 432x288 with 1 Axes>"
      ]
     },
     "metadata": {
      "needs_background": "light"
     },
     "output_type": "display_data"
    }
   ],
   "source": [
    "Linear_regression(size,price,68)\n",
    "\n",
    "#based on our model, if we have a house with size 68 then, the price could be 229.4 "
   ]
  },
  {
   "cell_type": "markdown",
   "metadata": {},
   "source": [
    "Yeah! We implemented a linear regression model!!\n",
    "\n",
    "However, it would be a lot of works if we had to implement the algorithm every time when we want to use linear regression. Fortunately, Python’s Scikit-learn library provides us with linear regression models that we can use whenever we need."
   ]
  },
  {
   "cell_type": "markdown",
   "metadata": {},
   "source": [
    "### Scikit-learn Linear regression implementation"
   ]
  },
  {
   "cell_type": "code",
   "execution_count": 23,
   "metadata": {
    "scrolled": true
   },
   "outputs": [
    {
     "name": "stdout",
     "output_type": "stream",
     "text": [
      "new array:  \n",
      " [[ 50]\n",
      " [ 60]\n",
      " [ 70]\n",
      " [ 80]\n",
      " [ 90]\n",
      " [100]\n",
      " [110]\n",
      " [120]\n",
      " [130]\n",
      " [140]\n",
      " [150]\n",
      " [160]]\n",
      "-------------------------\n",
      "slope: [2.95804196]\n",
      "intercept: 28.238927738927828\n",
      "predict: [229.38578089]\n"
     ]
    }
   ],
   "source": [
    "from sklearn.linear_model import LinearRegression\n",
    "import numpy as np\n",
    "import matplotlib.pyplot as plt\n",
    "\n",
    "#we still use the house price example above\n",
    "\n",
    "size = [50,60,70,80,90,100,110,120,130,140,150,160] \n",
    "\n",
    "price= [130,250,210,298,258,330,412,420,370,425,443,520]\n",
    "\n",
    "#you can call LinearRegression model in sklearn library\n",
    "ourmodel=LinearRegression()\n",
    "\n",
    "'''\n",
    "Here we will call ourmodel.fit() function to fit our data \n",
    ".fit() will take two parameters (X(2D array),y(1D array))\n",
    "so we have to reshape our size to:\n",
    "\n",
    "[[ 50]\n",
    " [ 60]\n",
    " [ 70]\n",
    " [ 80]\n",
    " [ 90]\n",
    " [100]\n",
    " [110]\n",
    " [120]\n",
    " [130]\n",
    " [140]\n",
    " [150]\n",
    " [160]]\n",
    " \n",
    "'''\n",
    "npsize=np.array(size)\n",
    "#here we convert our list to numpy array\n",
    "\n",
    "npsize=npsize.reshape(-1,1)\n",
    "#and we use numpy.reshape function to conver list to a 2D array\n",
    "\n",
    "print(\"new array: \",'\\n',npsize)\n",
    "#let's print our array\n",
    "\n",
    "#now we are good to fit our model\n",
    "ourmodel.fit(npsize,price)\n",
    "\n",
    "#after we fit the data we can call ourmodel.coef_ to check the slope and ourmodel.intercept_ to check intercept\n",
    "print(\"-------------------------\")\n",
    "print(\"slope: \"+str(ourmodel.coef_))\n",
    "print(\"intercept: \"+str(ourmodel.intercept_))\n",
    "\n",
    "\n",
    "#we can use .predict() function to predict the Y value by input x value\n",
    "print(\"predict:\",ourmodel.predict([[68]]))# note here input x should be a 2D array\n",
    "\n",
    "# the output from sklearn library is same as our OLS model\n"
   ]
  },
  {
   "cell_type": "markdown",
   "metadata": {},
   "source": [
    "Also we can print our prediction line"
   ]
  },
  {
   "cell_type": "code",
   "execution_count": 25,
   "metadata": {},
   "outputs": [
    {
     "data": {
      "image/png": "[encoded data removed]",
      "text/plain": [
       "<Figure size 432x288 with 1 Axes>"
      ]
     },
     "metadata": {
      "needs_background": "light"
     },
     "output_type": "display_data"
    }
   ],
   "source": [
    "plt.plot(npsize,ourmodel.predict(npsize))\n",
    "plt.plot(npsize,price,'o')\n",
    "plt.show()"
   ]
  },
  {
   "cell_type": "markdown",
   "metadata": {},
   "source": [
    "### Now it's your turn\n",
    "\n",
    "you can choose either way to implement the algorithm and solve the chicken farm problem (don't just copy paset the code from above)"
   ]
  },
  {
   "cell_type": "code",
   "execution_count": null,
   "metadata": {},
   "outputs": [],
   "source": []
  },
  {
   "cell_type": "markdown",
   "metadata": {},
   "source": [
    "## Let's programming your agent \n",
    "\n",
    "Now you have the proper size of the farm, let's learn how to program your agent to build the farm."
   ]
  },
  {
   "cell_type": "code",
   "execution_count": null,
   "metadata": {},
   "outputs": [],
   "source": [
    "agent.give('fence',100,1)\n",
    "agent.give('fence gate',10,2)\n",
    "#give agent some fences and fence gates\n",
    "\n",
    "#agent.say(agent.get_item(2))\n",
    "\n",
    "\n",
    "\n",
    "    \n",
    "\n",
    "        \n",
    "        \n",
    "def build(x):                  \n",
    "\n",
    "    for i in range(4):           \n",
    "        #4 edges\n",
    "        agent.turn(\"right\")\n",
    "        \n",
    "        for z in range(x):     \n",
    "        #place fence\n",
    "            agent.move(\"forward\")\n",
    "            agent.place(1,'back')\n",
    "    #build a gate         \n",
    "    agent.turn('left')\n",
    "    agent.move('forward')\n",
    "    agent.turn('lefts')\n",
    "    agent.move('forward')\n",
    "    agent.turn('left')\n",
    "    agent.place(2,'forward')\n",
    "\n",
    "    agent.say(\"finished\")\n",
    "    \n",
    "\n",
    "\n",
    "build(4)\n"
   ]
  }
 ],
 "metadata": {
  "kernelspec": {
   "display_name": "Python 3",
   "language": "python",
   "name": "python3"
  },
  "language_info": {
   "codemirror_mode": {
    "name": "ipython",
    "version": 3
   },
   "file_extension": ".py",
   "mimetype": "text/x-python",
   "name": "python",
   "nbconvert_exporter": "python",
   "pygments_lexer": "ipython3",
   "version": "3.8.5"
  }
 },
 "nbformat": 4,
 "nbformat_minor": 4
}
