{
 "metadata": {
  "language_info": {
   "codemirror_mode": {
    "name": "ipython",
    "version": 3
   },
   "file_extension": ".py",
   "mimetype": "text/x-python",
   "name": "python",
   "nbconvert_exporter": "python",
   "pygments_lexer": "ipython3",
   "version": "3.8.8-final"
  },
  "orig_nbformat": 2,
  "kernelspec": {
   "name": "python3",
   "display_name": "Python 3.8.8 64-bit",
   "metadata": {
    "interpreter": {
     "hash": "1083fa53f6d7f5be10a6410785a0823becceed8d4cec6b19dbcd1dcb87ff2a1b"
    }
   }
  }
 },
 "nbformat": 4,
 "nbformat_minor": 2,
 "cells": [
  {
   "cell_type": "code",
   "execution_count": 14,
   "metadata": {},
   "outputs": [
    {
     "output_type": "stream",
     "name": "stdout",
     "text": [
      "[('A', 'B', 1), ('A', 'C', 2), ('B', 'C', 6), ('B', 'D', 11), ('C', 'D', 9), ('C', 'E', 13), ('D', 'E', 7), ('D', 'F', 3), ('E', 'F', 4)]\nABCDEF\n"
     ]
    }
   ],
   "source": [
    "# Step 1:\n",
    "#   Now here shows the map, there are multiple choice from one house to another. To simplify the question,\n",
    "#   we can consider each house as a node and each path between them as an edge. And now we need to convert the map\n",
    "#   into something that computer can read. Create a list to store every edge in it, including start node and end node. \n",
    "#   And also a list contains all nodes.\n",
    "#   \n",
    "'''\n",
    "Hint: To start your convertion, you may use the following pseudo code:\n",
    "   Map = [(House name1,House name2, value),...]  \n",
    "        //[House name1] is the current location. The [House name2] is another house which directly \n",
    "        connected with the current. [value] is the distance between these two house. Remember you need to make sure every house is included.)\n",
    "'''\n",
    "#provided solution:\n",
    "Map = [\n",
    "    (\"A\",\"B\",1),(\"A\",\"C\",2),\n",
    "    (\"B\",\"C\",6),(\"B\",\"D\",11),\n",
    "    (\"C\",\"D\",9),(\"C\",\"E\",13),\n",
    "    (\"D\",\"E\",7),(\"D\",\"F\",3),\n",
    "    (\"E\",\"F\",4)\n",
    "    ]\n",
    "nodes = ('ABCDEF')\n",
    "print(Map)\n",
    "print(nodes)"
   ]
  },
  {
   "source": [
    "Step 2:\n",
    "Well done! Now it's time to prepair for next code. Finish the following readding before we continue.\n",
    "  1. What is Minimum Spanning Tree?\n",
    "      \"Given a connected and undirected graph, a spanning tree of that graph is a subgraph that is a tree and connects all the vertices together.\"\"\n",
    "      The number of spanning tree on a graph is not limited. However, to solve the problem in this lesson, we need to find the minimum spanning tree.\n",
    "      A minimum spanning tree has the smallest weight compared with all other spanning trees for a graph. \n",
    "      \"The weight of a spanning tree is the sum of weights given to each edge of the spanning tree.\"\n",
    "      In this lesson, the weight of an edge represents the distance between two house. \n",
    "      There will be only (number of nodes -1) edges in a minimum spanning tree.\n",
    "  2. How does a Kruskal's algorithm work?\n",
    "      i. The algorithm sorts all the edges in increasing order of their weight.\n",
    "      ii. Start with the smallest edge. If it can not form a cycle with the tree we have so far, then add this edge to the tree.\n",
    "      Otherwise we discard it.\n",
    "      iii. Repeat step2 until there are [(number of nodes) - 1] edges in the tree.\n",
    "\n",
    "It's ok if you do not totally understand. We will explain more in the next step.   "
   ],
   "cell_type": "markdown",
   "metadata": {}
  },
  {
   "cell_type": "code",
   "execution_count": 12,
   "metadata": {},
   "outputs": [
    {
     "output_type": "stream",
     "name": "stdout",
     "text": [
      "Sorted by age:\n[('dave', 'B', 10), ('jane', 'B', 12), ('john', 'A', 15)]\nSorted by grades:\n[('john', 'A', 15), ('dave', 'B', 10), ('jane', 'B', 12)]\n"
     ]
    }
   ],
   "source": [
    "# Step 3:\n",
    "# we need to sort edges in increasing order by using sort()\n",
    "# In python, function sort() looks like  \n",
    "# \"sort(key=None,reverse=False)\"\n",
    "# key is the compaire function \n",
    "# In this part, we will use key=lambda s: s[t]\n",
    "# where s means each iteration and t means the column\n",
    "# here is an example:\n",
    "students = [('john', 'A', 15), ('jane', 'B', 12), ('dave', 'B', 10)]\n",
    "# we have a list which stored students' names, grades, and ages,\n",
    "# if we want to sort it by ages, then we need to set t=2 (it starts with 0)\n",
    "# it should be like:\n",
    "students.sort(key=lambda s: s[2])\n",
    "print(\"Sorted by age:\")\n",
    "print(students)\n",
    "# if we want to sort it by grades, it should be like:\n",
    "students.sort(key=lambda s: s[1])\n",
    "print(\"Sorted by grade:\")\n",
    "print(students)"
   ]
  },
  {
   "cell_type": "code",
   "execution_count": 15,
   "metadata": {},
   "outputs": [
    {
     "output_type": "stream",
     "name": "stdout",
     "text": [
      "[('A', 'B', 1), ('A', 'C', 2), ('D', 'F', 3), ('E', 'F', 4), ('B', 'C', 6), ('D', 'E', 7), ('C', 'D', 9), ('B', 'D', 11), ('C', 'E', 13)]\n"
     ]
    }
   ],
   "source": [
    "# For now, let's sort Map by distance\n",
    "Map.sort(key=lambda x:x[2])\n",
    "print(Map)"
   ]
  },
  {
   "cell_type": "code",
   "execution_count": 16,
   "metadata": {},
   "outputs": [],
   "source": [
    "# Step 4:\n",
    "#initialize a new tree. We will use a new data structure \"Dictionary\". Data in dictionary will be like {[key]:[value]}, where key is the name of data \n",
    "# and value is the data stored.\n",
    "# We want the current node be the key and the nodes connected with the current is the value\n",
    "# Use the following pseudo code:\n",
    "'''\n",
    "tree=dict()\n",
    "for loop for all elements in nodes:\n",
    "    let each node connect with itself (we will deal with this later.)\n",
    "'''\n",
    "trees = dict()\n",
    "for i in nodes:\n",
    "    trees[i]=i"
   ]
  },
  {
   "cell_type": "code",
   "execution_count": 17,
   "metadata": {},
   "outputs": [
    {
     "output_type": "execute_result",
     "data": {
      "text/plain": [
       "'A'"
      ]
     },
     "metadata": {},
     "execution_count": 17
    }
   ],
   "source": [
    "# Step 4:\n",
    "# Now let's start with build a function named find()\n",
    "# It is used to find the root nodes\n",
    "# So that this tree will record connected nodes.\n",
    "def find_node(x):\n",
    "    if trees[x]!=x:\n",
    "        trees[x]=find_node(trees[x])\n",
    "    return trees[x]\n",
    "# let's see what will happen if we use this funtion on origin trees with node A\n",
    "find_node(\"A\")"
   ]
  },
  {
   "cell_type": "code",
   "execution_count": 18,
   "metadata": {},
   "outputs": [
    {
     "output_type": "stream",
     "name": "stdout",
     "text": [
      "{'A': 'B', 'B': 'C', 'C': 'C', 'D': 'D', 'E': 'E', 'F': 'F'}\n"
     ]
    }
   ],
   "source": [
    "# It returns A because when initializing the trees, we set A is connected to A because it's not connected to anything yet\n",
    "# But if we made some change, what will happen?\n",
    "trees['A']='B'\n",
    "trees['B']='C'\n",
    "print(trees)\n",
    "# Now A is connected to B and B is connected to C"
   ]
  },
  {
   "cell_type": "code",
   "execution_count": 19,
   "metadata": {},
   "outputs": [
    {
     "output_type": "execute_result",
     "data": {
      "text/plain": [
       "'C'"
      ]
     },
     "metadata": {},
     "execution_count": 19
    }
   ],
   "source": [
    "# Let's try again with find_node\n",
    "find_node(\"A\")"
   ]
  },
  {
   "source": [
    "This function tell us the root node of A is C, because the A and C are two ends of the connection.\n",
    "Remember when we adding edges, we don't want they form a cycle. So if the find_nodes return the \n",
    "same node, it means a cycle exists."
   ],
   "cell_type": "markdown",
   "metadata": {}
  },
  {
   "cell_type": "code",
   "execution_count": null,
   "metadata": {},
   "outputs": [],
   "source": [
    "# Step 5:\n",
    "# Let's initialize our minimum spanning tree at the beginning of this step\n",
    "mst=[]\n",
    "# define how many edges we need.\n",
    "n=len(nodes)-1"
   ]
  },
  {
   "cell_type": "code",
   "execution_count": null,
   "metadata": {},
   "outputs": [],
   "source": [
    "# Step 6:\n",
    "# The last step to create our algorithm is to write a loop which traverse all edge in Map.\n",
    "# Remember in Step 2.2.ii, before we add edges in mst[], use find() to check if this edge \n",
    "# will form a cycle. If both two nodes of the new edge do not have\n",
    "# the same root, then we add it into MST. \n",
    "for edge in Map:\n",
    "    v1,v2,_=edge\n",
    "    if find_node(v1)!=find_node(v2):\n",
    "        #if two edges do not have the same root nodes.\n",
    "        trees[find_node(v2)]=find_node(v1)\n",
    "        #set new root node for the tree. \n",
    "        mst.append(edge)\n",
    "        #add the edge into minimum spanning tree.\n",
    "        print('edge '+str(len(nodes)-n)+' added')\n",
    "        #print added edges\n",
    "        n-=1\n",
    "        print(trees)\n",
    "        print(mst)\n",
    "        if n==0:\n",
    "        # MST only have n edges, if it reaches the limit, break the loop.\n",
    "            break\n"
   ]
  }
 ]
}