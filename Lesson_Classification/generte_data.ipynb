{
  "nbformat": 4,
  "nbformat_minor": 0,
  "metadata": {
    "colab": {
      "name": "generte data.ipynb",
      "provenance": []
    },
    "kernelspec": {
      "name": "python3",
      "display_name": "Python 3"
    }
  },
  "cells": [
    {
      "cell_type": "code",
      "metadata": {
        "id": "vXK9HNO0c9Po"
      },
      "source": [
        "from sklearn.datasets import make_blobs\r\n",
        "from matplotlib import pyplot\r\n",
        "from pandas import DataFrame  \r\n",
        "import numpy as np"
      ],
      "execution_count": null,
      "outputs": []
    },
    {
      "cell_type": "code",
      "metadata": {
        "colab": {
          "base_uri": "https://localhost:8080/",
          "height": 279
        },
        "id": "BU9Ab2DjfClZ",
        "outputId": "b7b5ebeb-f31b-4fd9-b1e3-453146f0c104"
      },
      "source": [
        "# generate 2d classification dataset\r\n",
        "X, y = make_blobs(n_samples=220, centers=2, n_features=4,center_box=(2,10))\r\n",
        "# scatter plot, dots colored by class value\r\n",
        "df = DataFrame(dict(x=X[:,0], y=X[:,1], label=y))\r\n",
        "colors = {0:'red', 1:'blue'}\r\n",
        "fig, ax = pyplot.subplots()\r\n",
        "grouped = df.groupby('label')\r\n",
        "for key, group in grouped:\r\n",
        "    group.plot(ax=ax, kind='scatter', x='x', y='y', label=key, color=colors[key])\r\n",
        "pyplot.show()"
      ],
      "execution_count": null,
      "outputs": [
        {
          "output_type": "display_data",
          "data": {
            "image/png": "[encoded data removed]",
            "text/plain": [
              "<Figure size 432x288 with 1 Axes>"
            ]
          },
          "metadata": {
            "tags": [],
            "needs_background": "light"
          }
        }
      ]
    },
    {
      "cell_type": "code",
      "metadata": {
        "colab": {
          "base_uri": "https://localhost:8080/"
        },
        "id": "pezApcdUpWkc",
        "outputId": "84e52e45-6b2b-459a-e582-71ce6e0f61f4"
      },
      "source": [
        "print(df)"
      ],
      "execution_count": null,
      "outputs": [
        {
          "output_type": "stream",
          "text": [
            "             x         y  label\n",
            "0     4.515493  9.148005      0\n",
            "1     4.851926  8.117749      0\n",
            "2    11.122921  3.315049      1\n",
            "3     4.280371  8.466990      0\n",
            "4    10.248590  3.164377      1\n",
            "..         ...       ...    ...\n",
            "215   4.401745  7.721032      0\n",
            "216   9.900445  4.686617      1\n",
            "217   4.102761  8.795901      0\n",
            "218   9.914741  3.881922      1\n",
            "219  11.209160  3.268560      1\n",
            "\n",
            "[220 rows x 3 columns]\n"
          ],
          "name": "stdout"
        }
      ]
    },
    {
      "cell_type": "code",
      "metadata": {
        "colab": {
          "base_uri": "https://localhost:8080/"
        },
        "id": "N0lFhGn0hMD_",
        "outputId": "4d1d2c1e-6811-4de8-9e59-e6511729c6cc"
      },
      "source": [
        "#print(X)\r\n",
        "newarr=np.insert(X,4,y,1)\r\n",
        "print(newarr)\r\n",
        "newarr=np.around(newarr)\r\n",
        "newarr=newarr.astype(int)\r\n",
        "print(newarr)"
      ],
      "execution_count": null,
      "outputs": [
        {
          "output_type": "stream",
          "text": [
            "[[ 4.51549266  9.14800548 10.49173343  7.35089766  0.        ]\n",
            " [ 4.8519263   8.11774932  9.26180585  6.42650895  0.        ]\n",
            " [11.12292114  3.31504917  3.98185519  9.60340053  1.        ]\n",
            " ...\n",
            " [ 4.10276106  8.79590075  8.79251323  8.31200674  0.        ]\n",
            " [ 9.91474123  3.88192161  3.18934419  9.51304917  1.        ]\n",
            " [11.20915962  3.26856042  1.61674459  9.44530543  1.        ]]\n",
            "[[ 5  9 10  7  0]\n",
            " [ 5  8  9  6  0]\n",
            " [11  3  4 10  1]\n",
            " ...\n",
            " [ 4  9  9  8  0]\n",
            " [10  4  3 10  1]\n",
            " [11  3  2  9  1]]\n"
          ],
          "name": "stdout"
        }
      ]
    },
    {
      "cell_type": "code",
      "metadata": {
        "id": "4tpRKET0owW5"
      },
      "source": [
        "train_data=DataFrame(dict(oxeye_daisy=newarr[:198,0],allium=newarr[:198,1],blue_orchid=newarr[:198,2],red_tulip=newarr[:198,3],lable=newarr[:198,4]))"
      ],
      "execution_count": null,
      "outputs": []
    },
    {
      "cell_type": "code",
      "metadata": {
        "colab": {
          "base_uri": "https://localhost:8080/"
        },
        "id": "Pqa4ixTerATf",
        "outputId": "e208a5a5-a9bb-4884-a5b4-83a6b263f48a"
      },
      "source": [
        "print(train_data)"
      ],
      "execution_count": null,
      "outputs": [
        {
          "output_type": "stream",
          "text": [
            "     oxeye_daisy  allium  blue_orchid  red_tulip  lable\n",
            "0              5       9           10          7      0\n",
            "1              5       8            9          6      0\n",
            "2             11       3            4         10      1\n",
            "3              4       8            7          7      0\n",
            "4             10       3            5         10      1\n",
            "..           ...     ...          ...        ...    ...\n",
            "193            4       8            9          8      0\n",
            "194            9       4            2         10      1\n",
            "195            3       7            6          7      0\n",
            "196            6       9            8          8      0\n",
            "197            4       9            9          7      0\n",
            "\n",
            "[198 rows x 5 columns]\n"
          ],
          "name": "stdout"
        }
      ]
    },
    {
      "cell_type": "code",
      "metadata": {
        "id": "Fib7130IqqVI"
      },
      "source": [
        "val_data=DataFrame(dict(oxeye_daisy=newarr[198:,0],allium=newarr[198:,1],blue_orchid=newarr[198:,2],red_tulip=newarr[198:,3],lable=newarr[198:,4]))"
      ],
      "execution_count": null,
      "outputs": []
    },
    {
      "cell_type": "code",
      "metadata": {
        "colab": {
          "base_uri": "https://localhost:8080/"
        },
        "id": "gmMg93Shp5W9",
        "outputId": "77ec9d8a-e242-463f-b019-cd458caf5699"
      },
      "source": [
        "print(val_data)"
      ],
      "execution_count": null,
      "outputs": [
        {
          "output_type": "stream",
          "text": [
            "    oxeye_daisy  allium  blue_orchid  red_tulip  lable\n",
            "0             9       6            4         10      1\n",
            "1            10       4            3         10      1\n",
            "2             8       3            4         10      1\n",
            "3             6       7            8          8      0\n",
            "4             9       3            5         10      1\n",
            "5             9       5            2         10      1\n",
            "6            10       4            2         10      1\n",
            "7            12       4            4         10      1\n",
            "8             9       4            3         10      1\n",
            "9            10       4            4          9      1\n",
            "10            9       4            2          9      1\n",
            "11           10       4            6         10      1\n",
            "12           11       4            4          9      1\n",
            "13            6       8           11          7      0\n",
            "14            4       9            8          6      0\n",
            "15            2       9            8          6      0\n",
            "16            5      10           10         10      0\n",
            "17            4       8            9          7      0\n",
            "18           10       5            3         10      1\n",
            "19            4       9            9          8      0\n",
            "20           10       4            3         10      1\n",
            "21           11       3            2          9      1\n"
          ],
          "name": "stdout"
        }
      ]
    },
    {
      "cell_type": "code",
      "metadata": {
        "id": "BHKxKeLFqAiS"
      },
      "source": [
        "train_data.to_csv(\"Lesson2_train_data.csv\",index=False)\r\n",
        "val_data.to_csv(\"Lesson2_val_data.csv\",index=False)"
      ],
      "execution_count": null,
      "outputs": []
    }
  ]
}